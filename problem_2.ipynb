{
 "cells": [
  {
   "attachments": {},
   "cell_type": "markdown",
   "metadata": {},
   "source": [
    "# Solve the problems statement made in part 1 using a stock optimizer\n",
    "\n",
    "1. Begin by importing data and libraries. Define starting and ending points"
   ]
  },
  {
   "cell_type": "code",
   "execution_count": null,
   "metadata": {},
   "outputs": [
    {
     "name": "stdout",
     "output_type": "stream",
     "text": [
      "starting index: (2835, 2271)\n",
      "ending index: (1335, 1483)\n",
      "\n",
      "Start Location: (40.09047158688756, -76.91653014622179, 152.42)\n",
      "End Location: (40.10366175255552, -76.92595521393523, 411.659)\n"
     ]
    },
    {
     "data": {
      "text/plain": [
       "<matplotlib.colorbar.Colorbar at 0x24ec2afb280>"
      ]
     },
     "execution_count": 20,
     "metadata": {},
     "output_type": "execute_result"
    },
    {
     "data": {
      "image/png": "[encoded data removed]",
      "text/plain": [
       "<Figure size 640x480 with 2 Axes>"
      ]
     },
     "metadata": {},
     "output_type": "display_data"
    }
   ],
   "source": [
    "import numpy as np\n",
    "from scipy import optimize as opt\n",
    "from matplotlib import pyplot as plt\n",
    "\n",
    "import little_roundtop_mountain_data_and_plot.import_tar_file_extract_tif as tar\n",
    "import little_roundtop_mountain_data_and_plot.extract_and_plot_lat_lon_elevation_data as elv #Contains lat/lon/elevation/transorm/minXY/maxXY\n",
    "\n",
    "get_max_index = lambda x: np.unravel_index(np.argmax(x), x.shape)   #Finds index of max value\n",
    "get_min_index = lambda x: np.unravel_index(np.argmin(x), x.shape)   #Finds index of min value\n",
    "\n",
    "start_point  = get_min_index(elv.elevation)\n",
    "end_point = get_max_index(elv.elevation)\n",
    "\n",
    "print(f\"starting index: {start_point}\")\n",
    "print(f\"ending index: {end_point}\\n\")\n",
    "\n",
    "# For a given index tuple, return lat/lon/elevation\n",
    "def get_location(point):\n",
    "    \n",
    "    x_indx = point[0]\n",
    "    y_indx = point[1]\n",
    "\n",
    "    return elv.lat[x_indx][y_indx], elv.lon[x_indx][y_indx], elv.elevation[x_indx][y_indx]\n",
    "\n",
    "# Define a function to estimate elevation at a given point\n",
    "def get_elevation(lat, lon):\n",
    "    # Map the input latitude and longitude to the indices of the elevation array\n",
    "    i = int(np.interp(lat, (elv.minY, elv.maxY), (elv.elevation.shape[0]-1, 0)))\n",
    "    j = int(np.interp(lon, (elv.minX, elv.maxX), (0, elv.elevation.shape[1]-1)))\n",
    "    # Use bilinear interpolation to estimate the elevation at the given point\n",
    "    x1, x2 = lon, lon+ elv.transform[0]\n",
    "    y1, y2 = lat, lat+ elv.ransform[4]\n",
    "    q11, q21 = elv.elevation[i,j], elv.elevation[i,j+1]\n",
    "    q12, q22 = elv.elevation[i+1,j], elv.elevation[i+1,j+1]\n",
    "    elevation_at_point = ((q11 * (x2 - lon) * (y2 - lat) + \n",
    "                            q21 * (lon - x1) * (y2 - lat) + \n",
    "                            q12 * (x2 - lon) * (lat - y1) + \n",
    "                            q22 * (lon - x1) * (lat - y1)) / ((x2 - x1) * (y2 - y1)))\n",
    "    return elevation_at_point    \n",
    "\n",
    "start_loc = get_location(start_point)\n",
    "end_loc = get_location(end_point)\n",
    "\n",
    "\n",
    "print(f\"Start Location: {start_loc}\")\n",
    "print(f\"End Location: {end_loc}\")\n",
    "plt.figure(1)\n",
    "plt.contour(elv.lat, elv.lon, elv.elevation,50)\n",
    "plt.plot(start_loc[0],start_loc[1], '*r')\n",
    "plt.plot(end_loc[0], end_loc[1], \"r*\")\n",
    "plt.colorbar()"
   ]
  },
  {
   "attachments": {},
   "cell_type": "markdown",
   "metadata": {},
   "source": [
    "2. Then define constraint functions and objective functions"
   ]
  },
  {
   "attachments": {},
   "cell_type": "markdown",
   "metadata": {},
   "source": [
    "3. Plug into stock optimizer and print results"
   ]
  },
  {
   "attachments": {},
   "cell_type": "markdown",
   "metadata": {},
   "source": [
    "4. Extract Metrics and Iterate"
   ]
  }
 ],
 "metadata": {
  "kernelspec": {
   "display_name": "Python 3",
   "language": "python",
   "name": "python3"
  },
  "language_info": {
   "codemirror_mode": {
    "name": "ipython",
    "version": 3
   },
   "file_extension": ".py",
   "mimetype": "text/x-python",
   "name": "python",
   "nbconvert_exporter": "python",
   "pygments_lexer": "ipython3",
   "version": "3.10.9"
  },
  "orig_nbformat": 4
 },
 "nbformat": 4,
 "nbformat_minor": 2
}
